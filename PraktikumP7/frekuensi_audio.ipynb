{
 "cells": [
  {
   "cell_type": "code",
   "execution_count": null,
   "id": "e2ac825c",
   "metadata": {
    "vscode": {
     "languageId": "plaintext"
    }
   },
   "outputs": [],
   "source": [
    "# Tugas Praktikum: Analisis Frekuensi Audio Menggunakan Fourier Transform\n",
    "\n",
    "# 1. Import Library\n",
    "import librosa\n",
    "import numpy as np\n",
    "import matplotlib.pyplot as plt\n",
    "\n",
    "# 2. Fungsi untuk proses FFT dan visualisasi\n",
    "def analyze_audio(filename, title):\n",
    "    # Load audio file\n",
    "    y, sr = librosa.load(filename)\n",
    "    \n",
    "    # FFT\n",
    "    fft_result = np.fft.fft(y)\n",
    "    frequencies = np.fft.fftfreq(len(fft_result), 1/sr)\n",
    "    magnitude = np.abs(fft_result)\n",
    "    \n",
    "    # Plot\n",
    "    plt.figure(figsize=(12, 6))\n",
    "    plt.plot(frequencies[:len(frequencies)//2], magnitude[:len(magnitude)//2])\n",
    "    plt.xlabel(\"Frekuensi (Hz)\")\n",
    "    plt.ylabel(\"Magnitudo\")\n",
    "    plt.title(f\"Spektrum Frekuensi - {title}\")\n",
    "    plt.grid()\n",
    "    plt.show()\n",
    "\n",
    "# 3. Analisis Audio 1 - Suara Manusia\n",
    "analyze_audio(\"suara_manusia.wav\", \"Suara Manusia\")\n",
    "\n",
    "# 4. Analisis Audio 2 - Musik\n",
    "analyze_audio(\"musik.wav\", \"Musik\")\n",
    "\n",
    "# 5. Kesimpulan\n",
    "from IPython.display import Markdown\n",
    "\n",
    "Markdown(\"\"\"\n",
    "### Kesimpulan:\n",
    "\n",
    "- Spektrum **suara manusia** menunjukkan konsentrasi frekuensi di bawah 3000 Hz, dengan bentuk tidak terlalu simetris dan memiliki harmonik kompleks.\n",
    "- Spektrum **musik** memiliki jangkauan frekuensi yang lebih lebar, pola lebih terstruktur, dan magnitudo tinggi pada frekuensi-frekuensi musikal tertentu.\n",
    "- Jenis sumber suara memengaruhi distribusi energi dalam domain frekuensi.\n",
    "\"\"\")\n"
   ]
  }
 ],
 "metadata": {
  "language_info": {
   "name": "python"
  }
 },
 "nbformat": 4,
 "nbformat_minor": 5
}
