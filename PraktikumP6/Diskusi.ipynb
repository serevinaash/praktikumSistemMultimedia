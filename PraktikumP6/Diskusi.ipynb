{
 "cells": [
  {
   "cell_type": "markdown",
   "id": "e85fcf01",
   "metadata": {},
   "source": [
    "1. Apa tujuan dari manipulasi tempo dan penambahan efek fade pada audio?\n",
    "Tujuannya adalah untuk memberikan variasi dalam presentasi audio.\n",
    "Perubahan tempo dapat digunakan untuk mempercepat atau memperlambat audio sesuai kebutuhan konteks (misalnya efek dramatis atau ringkasan cepat).\n",
    "Efek fade in/out digunakan untuk transisi yang halus saat audio dimulai atau diakhiri, agar tidak terdengar tiba-tiba. Ini sangat umum digunakan dalam produksi musik, podcast, atau konten multimedia.\n",
    "\n",
    "2. Mengapa kita menggunakan librosa untuk mengubah tempo?\n",
    "librosa adalah pustaka Python yang sangat powerful untuk analisis dan manipulasi sinyal audio berbasis waktu dan frekuensi. Fungsinya librosa.effects.time_stretch memungkinkan kita mengubah kecepatan audio tanpa mengubah pitch-nya, sehingga suara tetap alami meskipun dipercepat atau diperlambat.\n",
    "\n",
    "3. Apa peran pydub dalam proses ini?\n",
    "pydub digunakan untuk manipulasi audio pada level segmen/waveform. Dalam praktikum ini, kita menggunakan pydub.AudioSegment untuk:\n",
    "- Membaca file .wav hasil dari librosa\n",
    "- Menambahkan efek fade in dan fade out\n",
    "Mengekspor ulang hasilnya ke file baru\n",
    "pydub sangat mudah digunakan untuk efek seperti ini dibanding menggunakan pustaka yang lebih kompleks.\n",
    "\n",
    "4. Kenapa perlu menggunakan Streamlit dalam proyek ini?\n",
    "Streamlit digunakan untuk membangun antarmuka pengguna (UI) berbasis web dengan cepat dan sederhana menggunakan Python. Dengan st.audio(), kita bisa menampilkan player audio langsung di browser tanpa menulis kode HTML/JS. Ini sangat berguna untuk mendemokan hasil manipulasi audio secara interaktif.\n",
    "\n",
    "5. Apa tantangan utama saat memproses dan menampilkan audio ini?\n",
    "- Path file: Harus memastikan file audio tersedia di direktori yang sesuai saat dipanggil.\n",
    "\n",
    "- Codec support: pydub membutuhkan FFmpeg, jadi kita harus men-setup path-nya dengan benar.\n",
    "\n",
    "Ukuran dan format audio: Format yang tidak sesuai bisa menyebabkan error saat pemrosesan atau playback.\n",
    "\n",
    "Error Streamlit: File yang tidak ditemukan bisa menyebabkan error seperti MediaFileStorageError, jadi perlu memastikan nama dan lokasi file sudah tepat."
   ]
  }
 ],
 "metadata": {
  "language_info": {
   "name": "python"
  }
 },
 "nbformat": 4,
 "nbformat_minor": 5
}
