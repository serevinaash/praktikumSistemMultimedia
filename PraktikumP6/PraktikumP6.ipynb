{
 "cells": [
  {
   "cell_type": "code",
   "execution_count": 2,
   "id": "889c65fd",
   "metadata": {},
   "outputs": [],
   "source": [
    "import pydub\n",
    "import librosa\n",
    "import numpy as np\n",
    "import soundfile as sf\n"
   ]
  },
  {
   "cell_type": "markdown",
   "id": "9ce2edb3",
   "metadata": {},
   "source": [
    "## 🎧 Fade In / Fade Out untuk File WAV"
   ]
  },
  {
   "cell_type": "code",
   "execution_count": 8,
   "id": "8fd50d4f",
   "metadata": {},
   "outputs": [
    {
     "data": {
      "text/plain": [
       "<_io.BufferedRandom name='shortresult.wav'>"
      ]
     },
     "execution_count": 8,
     "metadata": {},
     "output_type": "execute_result"
    }
   ],
   "source": [
    "from pydub import AudioSegment\n",
    "\n",
    "# Membaca file audio format WAV\n",
    "audio = AudioSegment.from_file(\"short.wav\", format=\"wav\")\n",
    "\n",
    "# Tambahkan efek fade in 2 detik dan fade out 3 detik\n",
    "faded_audio = audio.fade_in(2000).fade_out(3000)\n",
    "\n",
    "# Simpan hasilnya ke file baru\n",
    "faded_audio.export(\"shortresult.wav\", format=\"wav\")\n"
   ]
  },
  {
   "cell_type": "code",
   "execution_count": 9,
   "id": "1b11d5ec",
   "metadata": {},
   "outputs": [
    {
     "data": {
      "text/plain": [
       "<_io.BufferedRandom name='longresult.wav'>"
      ]
     },
     "execution_count": 9,
     "metadata": {},
     "output_type": "execute_result"
    }
   ],
   "source": [
    "from pydub import AudioSegment\n",
    "\n",
    "# Membaca file audio format WAV\n",
    "audio = AudioSegment.from_file(\"long.wav\", format=\"wav\")\n",
    "\n",
    "# Tambahkan efek fade in 2 detik dan fade out 3 detik\n",
    "faded_audio = audio.fade_in(2000).fade_out(3000)\n",
    "\n",
    "# Simpan hasilnya ke file baru\n",
    "faded_audio.export(\"longresult.wav\", format=\"wav\")\n"
   ]
  },
  {
   "cell_type": "markdown",
   "id": "f1eaafe2",
   "metadata": {},
   "source": [
    " ## 🎛️ Contoh: Playback Lebih Cepat (1.5x)"
   ]
  },
  {
   "cell_type": "code",
   "execution_count": 10,
   "id": "9f2a9deb",
   "metadata": {},
   "outputs": [],
   "source": [
    "import librosa\n",
    "import soundfile as sf\n",
    "\n",
    "# Membaca audio .wav\n",
    "y, sr = librosa.load(\"short.wav\")\n",
    "\n",
    "# Mengubah tempo (contoh: 1.5x lebih cepat)\n",
    "y_fast = librosa.effects.time_stretch(y, rate=1.5)\n",
    "\n",
    "# Menyimpan hasil\n",
    "sf.write(\"speedshort.wav\", y_fast, sr)\n"
   ]
  },
  {
   "cell_type": "code",
   "execution_count": 11,
   "id": "900d32d0",
   "metadata": {},
   "outputs": [],
   "source": [
    "import librosa\n",
    "import soundfile as sf\n",
    "\n",
    "# Membaca audio .wav\n",
    "y, sr = librosa.load(\"long.wav\")\n",
    "\n",
    "# Mengubah tempo (contoh: 1.5x lebih cepat)\n",
    "y_fast = librosa.effects.time_stretch(y, rate=1.5)\n",
    "\n",
    "# Menyimpan hasil\n",
    "sf.write(\"speedlong.wav\", y_fast, sr)\n"
   ]
  },
  {
   "cell_type": "markdown",
   "id": "ba6a27f2",
   "metadata": {},
   "source": [
    "## 🐢 Contoh: Playback Lebih Lambat (0.75x)"
   ]
  },
  {
   "cell_type": "code",
   "execution_count": 12,
   "id": "baeec8a0",
   "metadata": {},
   "outputs": [],
   "source": [
    "import librosa\n",
    "import soundfile as sf\n",
    "\n",
    "# Membaca audio .wav\n",
    "y, sr = librosa.load(\"short.wav\")\n",
    "\n",
    "# Ubah tempo jadi lebih lambat (0.75x)\n",
    "y_slow = librosa.effects.time_stretch(y, rate=0.75)\n",
    "\n",
    "# Simpan hasilnya\n",
    "sf.write(\"short_slow.wav\", y_slow, sr)\n"
   ]
  },
  {
   "cell_type": "markdown",
   "id": "516ff82b",
   "metadata": {},
   "source": [
    "## Fade in Fade out"
   ]
  },
  {
   "cell_type": "code",
   "execution_count": 23,
   "id": "69af5a70",
   "metadata": {},
   "outputs": [],
   "source": [
    "from pydub import AudioSegment\n",
    "from pydub.utils import which\n",
    "\n",
    "\n"
   ]
  },
  {
   "cell_type": "code",
   "execution_count": 4,
   "id": "f49c4779",
   "metadata": {},
   "outputs": [
    {
     "data": {
      "text/plain": [
       "<_io.BufferedRandom name='podcast_intro_fadein.wav'>"
      ]
     },
     "execution_count": 4,
     "metadata": {},
     "output_type": "execute_result"
    }
   ],
   "source": [
    "from pydub import AudioSegment\n",
    "AudioSegment.converter = \"C:\\\\Users\\\\User\\\\ffmpeg-7.1.1-essentials_build\\\\bin\\\\ffmpeg.exe\"\n",
    "\n",
    "intro = AudioSegment.from_file(\"podcast-intro.mp3\", format=\"mp3\")\n",
    "fadein = intro.fade_in(2000)\n",
    "fadein.export(\"podcast_intro_fadein.wav\", format=\"wav\")\n"
   ]
  },
  {
   "cell_type": "code",
   "execution_count": 5,
   "id": "5cd4429c",
   "metadata": {},
   "outputs": [
    {
     "data": {
      "text/plain": [
       "<_io.BufferedRandom name='podcast_outro_fadeout.wav'>"
      ]
     },
     "execution_count": 5,
     "metadata": {},
     "output_type": "execute_result"
    }
   ],
   "source": [
    "outro = AudioSegment.from_file(\"podcast-outro.mp3\", format=\"mp3\")\n",
    "fadeout = outro.fade_out(2000)\n",
    "fadeout.export(\"podcast_outro_fadeout.wav\", format=\"wav\")\n"
   ]
  },
  {
   "cell_type": "markdown",
   "id": "2eacd11b",
   "metadata": {},
   "source": [
    "## ✅ Langkah Gabung Fade + Tempo"
   ]
  },
  {
   "cell_type": "code",
   "execution_count": 7,
   "id": "1835e35e",
   "metadata": {},
   "outputs": [
    {
     "data": {
      "text/plain": [
       "<_io.BufferedRandom name='tempo_fadeinout.wav'>"
      ]
     },
     "execution_count": 7,
     "metadata": {},
     "output_type": "execute_result"
    }
   ],
   "source": [
    "import librosa\n",
    "import soundfile as sf\n",
    "from pydub import AudioSegment\n",
    "\n",
    "# Atur path ke ffmpeg\n",
    "AudioSegment.converter = \"C:\\\\Users\\\\User\\\\ffmpeg-7.1.1-essentials_build\\\\bin\\\\ffmpeg.exe\"\n",
    "\n",
    "# === LANGKAH 1: UBAH KECEPATAN PLAYBACK ===\n",
    "y, sr = librosa.load(\"podcast-intro.mp3\")\n",
    "\n",
    "# Ubah tempo jadi lebih cepat (misal 1.5x)\n",
    "y_fast = librosa.effects.time_stretch(y, rate=1.5)\n",
    "\n",
    "# Simpan hasilnya ke file baru\n",
    "sf.write(\"tempo_fast.wav\", y_fast, sr)\n",
    "\n",
    "# === LANGKAH 2: TAMBAHKAN FADE IN / OUT ===\n",
    "audio = AudioSegment.from_file(\"tempo_fast.wav\", format=\"wav\")\n",
    "faded = audio.fade_in(2000).fade_out(2000)\n",
    "faded.export(\"tempo_fadeinout.wav\", format=\"wav\")\n"
   ]
  },
  {
   "cell_type": "code",
   "execution_count": 8,
   "id": "ca93209b",
   "metadata": {},
   "outputs": [
    {
     "data": {
      "text/plain": [
       "<_io.BufferedRandom name='tempo_fadeinout.wav'>"
      ]
     },
     "execution_count": 8,
     "metadata": {},
     "output_type": "execute_result"
    }
   ],
   "source": [
    "import librosa\n",
    "import soundfile as sf\n",
    "from pydub import AudioSegment\n",
    "\n",
    "# Atur path ke ffmpeg\n",
    "AudioSegment.converter = \"C:\\\\Users\\\\User\\\\ffmpeg-7.1.1-essentials_build\\\\bin\\\\ffmpeg.exe\"\n",
    "\n",
    "# === LANGKAH 1: UBAH KECEPATAN PLAYBACK ===\n",
    "y, sr = librosa.load(\"podcast-outro.mp3\")\n",
    "\n",
    "# Ubah tempo jadi lebih cepat (misal 1.5x)\n",
    "y_fast = librosa.effects.time_stretch(y, rate=1.5)\n",
    "\n",
    "# Simpan hasilnya ke file baru\n",
    "sf.write(\"tempo_fast.wav\", y_fast, sr)\n",
    "\n",
    "# === LANGKAH 2: TAMBAHKAN FADE IN / OUT ===\n",
    "audio = AudioSegment.from_file(\"tempo_fast.wav\", format=\"wav\")\n",
    "faded = audio.fade_in(2000).fade_out(2000)\n",
    "faded.export(\"tempo_fadeinout.wav\", format=\"wav\")\n"
   ]
  },
  {
   "cell_type": "markdown",
   "id": "408cf621",
   "metadata": {},
   "source": [
    "## Streamlit\n"
   ]
  },
  {
   "cell_type": "code",
   "execution_count": null,
   "id": "c9405fdd",
   "metadata": {},
   "outputs": [],
   "source": [
    "import streamlit as st\n",
    "\n",
    "st.title(\"🎧 Eksperimen Audio Praktikum\")\n",
    "\n",
    "st.subheader(\"Fade In\")\n",
    "st.audio(\"podcast_intro_fadein.wav\")\n",
    "\n",
    "st.subheader(\"Fade Out\")\n",
    "st.audio(\"podcast_outro_fadeout.wav\")\n",
    "\n",
    "st.subheader(\"Gabungan Tempo + Fade\")\n",
    "st.audio(\"C:/coding/kuliah/smt6/PrakSisMul/PraktikumP6/gabungan_tempo_fade.wav\")\n",
    "\n",
    "st.write(\"Silakan dengarkan hasil eksperimen audio di atas.\")\n"
   ]
  },
  {
   "cell_type": "markdown",
   "id": "b9aa5b92",
   "metadata": {},
   "source": [
    "Pada praktikum ini, saya melakukan manipulasi audio berupa penambahan efek fade in dan fade out, serta perubahan kecepatan playback menggunakan pustaka pydub dan librosa.\n",
    "\n",
    "Eksperimen dimulai dengan menambahkan efek fade in selama 2 detik pada audio pembuka podcast dan fade out selama 2 detik pada audio penutup. Selanjutnya, saya melakukan perubahan tempo menjadi 1.5x lebih cepat dan 0.75x lebih lambat menggunakan librosa.effects.time_stretch(), lalu menggabungkannya dengan efek fade in dan fade out.\n",
    "\n",
    "Hasil manipulasi audio menunjukkan bahwa efek fade in memberikan transisi masuk yang lebih halus, cocok untuk pembukaan. Sedangkan fade out memberikan kesan akhir yang lembut. Perubahan tempo mempengaruhi durasi audio, tetapi tidak mengubah pitch.\n",
    "\n",
    "Seluruh hasil eksperimen kemudian disajikan melalui antarmuka Streamlit, serta divisualisasikan dalam bentuk waveform seperti berikut:"
   ]
  }
 ],
 "metadata": {
  "kernelspec": {
   "display_name": "Python 3",
   "language": "python",
   "name": "python3"
  },
  "language_info": {
   "codemirror_mode": {
    "name": "ipython",
    "version": 3
   },
   "file_extension": ".py",
   "mimetype": "text/x-python",
   "name": "python",
   "nbconvert_exporter": "python",
   "pygments_lexer": "ipython3",
   "version": "3.10.6"
  }
 },
 "nbformat": 4,
 "nbformat_minor": 5
}
